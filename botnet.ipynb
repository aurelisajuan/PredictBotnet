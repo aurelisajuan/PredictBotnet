{
 "cells": [
  {
   "cell_type": "code",
   "execution_count": 17,
   "metadata": {},
   "outputs": [
    {
     "name": "stdout",
     "output_type": "stream",
     "text": [
      "Pandas version: 2.2.2\n"
     ]
    }
   ],
   "source": [
    "#importing all necessary libraries \n",
    "import pandas as pd\n",
    "import numpy as np\n",
    "\n",
    "#check version\n",
    "print(\"Pandas version: \" + pd.__version__)\n"
   ]
  },
  {
   "cell_type": "code",
   "execution_count": 20,
   "metadata": {},
   "outputs": [],
   "source": [
    "#load csv file with the correct delimiter \n",
    "file_path = 'csv/CTU-IoT-Malware-Capture-34-1conn.log.labeled copy.csv'\n",
    "df = pd.read_csv(file_path, delimiter='|')"
   ]
  },
  {
   "cell_type": "code",
   "execution_count": 24,
   "metadata": {},
   "outputs": [
    {
     "name": "stdout",
     "output_type": "stream",
     "text": [
      "Initial data:\n",
      "             ts                 uid      id.orig_h  id.orig_p       id.resp_h  \\\n",
      "0  1.545404e+09   CrDn63WjJEmrWGjqf  192.168.1.195      41040  185.244.25.235   \n",
      "1  1.545404e+09  CY9lJW3gh1Eje4usP6  192.168.1.195      41040  185.244.25.235   \n",
      "2  1.545404e+09   CcFXLynukEDnUlvgl  192.168.1.195      41040  185.244.25.235   \n",
      "3  1.545404e+09   CDrkrSobGYxHhYfth  192.168.1.195      41040  185.244.25.235   \n",
      "4  1.545404e+09  CTWZQf2oJSvq6zmPAc  192.168.1.195      41042  185.244.25.235   \n",
      "\n",
      "   id.resp_p proto service  duration orig_bytes  ... local_resp missed_bytes  \\\n",
      "0         80   tcp       -  3.139211          0  ...          -            0   \n",
      "1         80   tcp       -         -          -  ...          -            0   \n",
      "2         80   tcp       -         -          -  ...          -            0   \n",
      "3         80   tcp    http  1.477656        149  ...          -         2896   \n",
      "4         80   tcp       -  3.147116          0  ...          -            0   \n",
      "\n",
      "       history orig_pkts  orig_ip_bytes resp_pkts  resp_ip_bytes  \\\n",
      "0            S         3            180         0              0   \n",
      "1            S         1             60         0              0   \n",
      "2            S         1             60         0              0   \n",
      "3  ShADadttcfF        94           5525        96         139044   \n",
      "4            S         3            180         0              0   \n",
      "\n",
      "   tunnel_parents   label  detailed-label  \n",
      "0               -  Benign               -  \n",
      "1               -  Benign               -  \n",
      "2               -  Benign               -  \n",
      "3               -  Benign               -  \n",
      "4               -  Benign               -  \n",
      "\n",
      "[5 rows x 23 columns]\n"
     ]
    }
   ],
   "source": [
    "#take a look, displaying the first few rows to verify correct loading \n",
    "print(\"Initial data:\") \n",
    "print(df.head())"
   ]
  },
  {
   "cell_type": "code",
   "execution_count": 26,
   "metadata": {},
   "outputs": [
    {
     "name": "stdout",
     "output_type": "stream",
     "text": [
      "Initial columns:\n",
      "Index(['ts', 'uid', 'id.orig_h', 'id.orig_p', 'id.resp_h', 'id.resp_p',\n",
      "       'proto', 'service', 'duration', 'orig_bytes', 'resp_bytes',\n",
      "       'conn_state', 'local_orig', 'local_resp', 'missed_bytes', 'history',\n",
      "       'orig_pkts', 'orig_ip_bytes', 'resp_pkts', 'resp_ip_bytes',\n",
      "       'tunnel_parents', 'label', 'detailed-label'],\n",
      "      dtype='object')\n"
     ]
    }
   ],
   "source": [
    "#display the initial columns\n",
    "print(\"Initial columns:\")\n",
    "print(df.columns)"
   ]
  },
  {
   "cell_type": "code",
   "execution_count": 25,
   "metadata": {},
   "outputs": [],
   "source": [
    "#defined the required columns with desired labels\n",
    "required_columns = {\n",
    "    'ts': 'Timestamp', \n",
    "    'id_orig_h': 'Source_IP', \n",
    "    'id_resp_h': 'Destination_IP', \n",
    "    'id_orig_p': 'Source_Port', \n",
    "    'id_resp_p': 'Destination_Port', \n",
    "    'proto': 'Protocol', \n",
    "    'duration': 'Duration', \n",
    "    'orig_bytes': 'Bytes_Sent', \n",
    "    'resp_bytes': 'Bytes_Received', \n",
    "    'label': 'Label'\n",
    "}\n",
    "\n",
    "#addtional columns if available \n",
    "optional_columns = {\n",
    "    'orig_country': 'Source_Country', \n",
    "    'resp_country': 'Destination_Country', \n",
    "    'detailed_label': 'Malware_Type', \n",
    "    'orig_pkts': 'Packets_Sent', \n",
    "    'resp_pkts': 'Packets_Received'\n",
    "}\n"
   ]
  },
  {
   "cell_type": "code",
   "execution_count": null,
   "metadata": {},
   "outputs": [],
   "source": []
  }
 ],
 "metadata": {
  "kernelspec": {
   "display_name": "Python 3",
   "language": "python",
   "name": "python3"
  },
  "language_info": {
   "codemirror_mode": {
    "name": "ipython",
    "version": 3
   },
   "file_extension": ".py",
   "mimetype": "text/x-python",
   "name": "python",
   "nbconvert_exporter": "python",
   "pygments_lexer": "ipython3",
   "version": "3.12.1"
  }
 },
 "nbformat": 4,
 "nbformat_minor": 2
}
