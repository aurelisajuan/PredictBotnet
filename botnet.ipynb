{
 "cells": [
  {
   "cell_type": "code",
   "execution_count": 27,
   "metadata": {},
   "outputs": [
    {
     "name": "stdout",
     "output_type": "stream",
     "text": [
      "Pandas version: 2.2.2\n"
     ]
    }
   ],
   "source": [
    "#importing all necessary libraries \n",
    "import pandas as pd\n",
    "import numpy as np\n",
    "\n",
    "#check version\n",
    "print(\"Pandas version: \" + pd.__version__)\n"
   ]
  },
  {
   "cell_type": "code",
   "execution_count": 28,
   "metadata": {},
   "outputs": [],
   "source": [
    "#load csv file with the correct delimiter \n",
    "file_path = 'csv/CTU-IoT-Malware-Capture-34-1conn.log.labeled copy.csv'\n",
    "df = pd.read_csv(file_path, delimiter='|')"
   ]
  },
  {
   "cell_type": "code",
   "execution_count": 29,
   "metadata": {},
   "outputs": [
    {
     "name": "stdout",
     "output_type": "stream",
     "text": [
      "Initial data:\n",
      "             ts                 uid      id.orig_h  id.orig_p       id.resp_h  \\\n",
      "0  1.545404e+09   CrDn63WjJEmrWGjqf  192.168.1.195      41040  185.244.25.235   \n",
      "1  1.545404e+09  CY9lJW3gh1Eje4usP6  192.168.1.195      41040  185.244.25.235   \n",
      "2  1.545404e+09   CcFXLynukEDnUlvgl  192.168.1.195      41040  185.244.25.235   \n",
      "3  1.545404e+09   CDrkrSobGYxHhYfth  192.168.1.195      41040  185.244.25.235   \n",
      "4  1.545404e+09  CTWZQf2oJSvq6zmPAc  192.168.1.195      41042  185.244.25.235   \n",
      "\n",
      "   id.resp_p proto service  duration orig_bytes  ... local_resp missed_bytes  \\\n",
      "0         80   tcp       -  3.139211          0  ...          -            0   \n",
      "1         80   tcp       -         -          -  ...          -            0   \n",
      "2         80   tcp       -         -          -  ...          -            0   \n",
      "3         80   tcp    http  1.477656        149  ...          -         2896   \n",
      "4         80   tcp       -  3.147116          0  ...          -            0   \n",
      "\n",
      "       history orig_pkts  orig_ip_bytes resp_pkts  resp_ip_bytes  \\\n",
      "0            S         3            180         0              0   \n",
      "1            S         1             60         0              0   \n",
      "2            S         1             60         0              0   \n",
      "3  ShADadttcfF        94           5525        96         139044   \n",
      "4            S         3            180         0              0   \n",
      "\n",
      "   tunnel_parents   label  detailed-label  \n",
      "0               -  Benign               -  \n",
      "1               -  Benign               -  \n",
      "2               -  Benign               -  \n",
      "3               -  Benign               -  \n",
      "4               -  Benign               -  \n",
      "\n",
      "[5 rows x 23 columns]\n"
     ]
    }
   ],
   "source": [
    "#take a look, displaying the first few rows to verify correct loading \n",
    "print(\"Initial data:\") \n",
    "print(df.head())"
   ]
  },
  {
   "cell_type": "code",
   "execution_count": 30,
   "metadata": {},
   "outputs": [
    {
     "name": "stdout",
     "output_type": "stream",
     "text": [
      "Initial columns:\n",
      "Index(['ts', 'uid', 'id.orig_h', 'id.orig_p', 'id.resp_h', 'id.resp_p',\n",
      "       'proto', 'service', 'duration', 'orig_bytes', 'resp_bytes',\n",
      "       'conn_state', 'local_orig', 'local_resp', 'missed_bytes', 'history',\n",
      "       'orig_pkts', 'orig_ip_bytes', 'resp_pkts', 'resp_ip_bytes',\n",
      "       'tunnel_parents', 'label', 'detailed-label'],\n",
      "      dtype='object')\n"
     ]
    }
   ],
   "source": [
    "#display the initial columns\n",
    "print(\"Initial columns:\")\n",
    "print(df.columns)"
   ]
  },
  {
   "cell_type": "code",
   "execution_count": 35,
   "metadata": {},
   "outputs": [],
   "source": [
    "#defined the required columns with desired labels\n",
    "required_columns = {\n",
    "    'ts': 'Timestamp', \n",
    "    'id_orig_h': 'Source_IP', \n",
    "    'id_resp_h': 'Destination_IP', \n",
    "    'id_orig_p': 'Source_Port', \n",
    "    'id_resp_p': 'Destination_Port', \n",
    "    'proto': 'Protocol', \n",
    "    'duration': 'Duration', \n",
    "    'orig_bytes': 'Bytes_Sent', \n",
    "    'resp_bytes': 'Bytes_Received', \n",
    "    'label': 'Label'\n",
    "}\n",
    "\n",
    "#addtional columns if available \n",
    "optional_columns = {\n",
    "    'orig_country': 'Source_Country', \n",
    "    'resp_country': 'Destination_Country', \n",
    "    'detailed_label': 'Malware_Type', \n",
    "    'orig_pkts': 'Packets_Sent', \n",
    "    'resp_pkts': 'Packets_Received'\n",
    "}\n"
   ]
  },
  {
   "cell_type": "code",
   "execution_count": 38,
   "metadata": {},
   "outputs": [
    {
     "name": "stderr",
     "output_type": "stream",
     "text": [
      "/var/folders/qj/554m8prd38q7hks9ryklzp5m0000gn/T/ipykernel_27306/538083804.py:9: SettingWithCopyWarning: \n",
      "A value is trying to be set on a copy of a slice from a DataFrame\n",
      "\n",
      "See the caveats in the documentation: https://pandas.pydata.org/pandas-docs/stable/user_guide/indexing.html#returning-a-view-versus-a-copy\n",
      "  df_filtered.rename(columns=all_columns, inplace=True)\n"
     ]
    },
    {
     "data": {
      "text/html": [
       "<div>\n",
       "<style scoped>\n",
       "    .dataframe tbody tr th:only-of-type {\n",
       "        vertical-align: middle;\n",
       "    }\n",
       "\n",
       "    .dataframe tbody tr th {\n",
       "        vertical-align: top;\n",
       "    }\n",
       "\n",
       "    .dataframe thead th {\n",
       "        text-align: right;\n",
       "    }\n",
       "</style>\n",
       "<table border=\"1\" class=\"dataframe\">\n",
       "  <thead>\n",
       "    <tr style=\"text-align: right;\">\n",
       "      <th></th>\n",
       "      <th>Timestamp</th>\n",
       "      <th>Protocol</th>\n",
       "      <th>Duration</th>\n",
       "      <th>Bytes_Sent</th>\n",
       "      <th>Bytes_Received</th>\n",
       "      <th>Label</th>\n",
       "      <th>Packets_Sent</th>\n",
       "      <th>Packets_Received</th>\n",
       "    </tr>\n",
       "  </thead>\n",
       "  <tbody>\n",
       "    <tr>\n",
       "      <th>0</th>\n",
       "      <td>1.545404e+09</td>\n",
       "      <td>tcp</td>\n",
       "      <td>3.139211</td>\n",
       "      <td>0</td>\n",
       "      <td>0</td>\n",
       "      <td>Benign</td>\n",
       "      <td>3</td>\n",
       "      <td>0</td>\n",
       "    </tr>\n",
       "    <tr>\n",
       "      <th>1</th>\n",
       "      <td>1.545404e+09</td>\n",
       "      <td>tcp</td>\n",
       "      <td>-</td>\n",
       "      <td>-</td>\n",
       "      <td>-</td>\n",
       "      <td>Benign</td>\n",
       "      <td>1</td>\n",
       "      <td>0</td>\n",
       "    </tr>\n",
       "    <tr>\n",
       "      <th>2</th>\n",
       "      <td>1.545404e+09</td>\n",
       "      <td>tcp</td>\n",
       "      <td>-</td>\n",
       "      <td>-</td>\n",
       "      <td>-</td>\n",
       "      <td>Benign</td>\n",
       "      <td>1</td>\n",
       "      <td>0</td>\n",
       "    </tr>\n",
       "    <tr>\n",
       "      <th>3</th>\n",
       "      <td>1.545404e+09</td>\n",
       "      <td>tcp</td>\n",
       "      <td>1.477656</td>\n",
       "      <td>149</td>\n",
       "      <td>128252</td>\n",
       "      <td>Benign</td>\n",
       "      <td>94</td>\n",
       "      <td>96</td>\n",
       "    </tr>\n",
       "    <tr>\n",
       "      <th>4</th>\n",
       "      <td>1.545404e+09</td>\n",
       "      <td>tcp</td>\n",
       "      <td>3.147116</td>\n",
       "      <td>0</td>\n",
       "      <td>0</td>\n",
       "      <td>Benign</td>\n",
       "      <td>3</td>\n",
       "      <td>0</td>\n",
       "    </tr>\n",
       "  </tbody>\n",
       "</table>\n",
       "</div>"
      ],
      "text/plain": [
       "      Timestamp Protocol  Duration Bytes_Sent Bytes_Received   Label  \\\n",
       "0  1.545404e+09      tcp  3.139211          0              0  Benign   \n",
       "1  1.545404e+09      tcp         -          -              -  Benign   \n",
       "2  1.545404e+09      tcp         -          -              -  Benign   \n",
       "3  1.545404e+09      tcp  1.477656        149         128252  Benign   \n",
       "4  1.545404e+09      tcp  3.147116          0              0  Benign   \n",
       "\n",
       "   Packets_Sent  Packets_Received  \n",
       "0             3                 0  \n",
       "1             1                 0  \n",
       "2             1                 0  \n",
       "3            94                96  \n",
       "4             3                 0  "
      ]
     },
     "execution_count": 38,
     "metadata": {},
     "output_type": "execute_result"
    }
   ],
   "source": [
    "#combine required and optional columns\n",
    "all_columns = {**required_columns, **optional_columns}\n",
    "\n",
    "#filter the dataframe to keep only the relevant columns\n",
    "filtered_columns = [col for col in all_columns.keys() if col in df.columns]\n",
    "df_filtered = df[filtered_columns]\n",
    "\n",
    "#rename the columns\n",
    "df_filtered.rename(columns=all_columns, inplace=True)\n",
    "\n",
    "#drop rows with missing values in the required columns\n",
    "required_column_labels = [all_columns[col] for col in required_columns.keys() if col in df.columns]\n",
    "df_cleaned = df_filtered.dropna(subset=required_column_labels)\n",
    "\n",
    "#display the first few rows of the cleaned dataframe\n",
    "df_cleaned.head()"
   ]
  },
  {
   "cell_type": "code",
   "execution_count": null,
   "metadata": {},
   "outputs": [],
   "source": []
  }
 ],
 "metadata": {
  "kernelspec": {
   "display_name": "Python 3",
   "language": "python",
   "name": "python3"
  },
  "language_info": {
   "codemirror_mode": {
    "name": "ipython",
    "version": 3
   },
   "file_extension": ".py",
   "mimetype": "text/x-python",
   "name": "python",
   "nbconvert_exporter": "python",
   "pygments_lexer": "ipython3",
   "version": "3.12.1"
  }
 },
 "nbformat": 4,
 "nbformat_minor": 2
}
