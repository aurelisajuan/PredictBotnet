{
 "cells": [
  {
   "cell_type": "code",
   "execution_count": 16,
   "metadata": {},
   "outputs": [
    {
     "name": "stdout",
     "output_type": "stream",
     "text": [
      "Pandas version: 2.2.2\n"
     ]
    }
   ],
   "source": [
    "#importing all necessary libraries \n",
    "import pandas as pd\n",
    "import numpy as py\n",
    "\n",
    "#check version\n",
    "print(\"Pandas version: \" + pd.__version__)\n"
   ]
  },
  {
   "cell_type": "code",
   "execution_count": 15,
   "metadata": {},
   "outputs": [
    {
     "name": "stdout",
     "output_type": "stream",
     "text": [
      "Initial data:\n",
      "             ts                 uid      id.orig_h  id.orig_p       id.resp_h  \\\n",
      "0  1.545404e+09   CrDn63WjJEmrWGjqf  192.168.1.195      41040  185.244.25.235   \n",
      "1  1.545404e+09  CY9lJW3gh1Eje4usP6  192.168.1.195      41040  185.244.25.235   \n",
      "2  1.545404e+09   CcFXLynukEDnUlvgl  192.168.1.195      41040  185.244.25.235   \n",
      "3  1.545404e+09   CDrkrSobGYxHhYfth  192.168.1.195      41040  185.244.25.235   \n",
      "4  1.545404e+09  CTWZQf2oJSvq6zmPAc  192.168.1.195      41042  185.244.25.235   \n",
      "\n",
      "   id.resp_p proto service  duration orig_bytes  ... local_resp missed_bytes  \\\n",
      "0         80   tcp       -  3.139211          0  ...          -            0   \n",
      "1         80   tcp       -         -          -  ...          -            0   \n",
      "2         80   tcp       -         -          -  ...          -            0   \n",
      "3         80   tcp    http  1.477656        149  ...          -         2896   \n",
      "4         80   tcp       -  3.147116          0  ...          -            0   \n",
      "\n",
      "       history orig_pkts  orig_ip_bytes resp_pkts  resp_ip_bytes  \\\n",
      "0            S         3            180         0              0   \n",
      "1            S         1             60         0              0   \n",
      "2            S         1             60         0              0   \n",
      "3  ShADadttcfF        94           5525        96         139044   \n",
      "4            S         3            180         0              0   \n",
      "\n",
      "   tunnel_parents   label  detailed-label  \n",
      "0               -  Benign               -  \n",
      "1               -  Benign               -  \n",
      "2               -  Benign               -  \n",
      "3               -  Benign               -  \n",
      "4               -  Benign               -  \n",
      "\n",
      "[5 rows x 23 columns]\n"
     ]
    }
   ],
   "source": [
    "#load csv file with the correct delimiter \n",
    "file_path = 'CTU-IoT-Malware-Capture-34-1conn.log.labeled copy.csv'\n",
    "df = pd.read_csv(file_path, delimiter='|')\n",
    "\n",
    "#take a look, displaying the first few rows to verify correct loading \n",
    "print(\"Initial data:\") \n",
    "print(df.head())\n",
    "\n"
   ]
  },
  {
   "cell_type": "code",
   "execution_count": null,
   "metadata": {},
   "outputs": [],
   "source": []
  }
 ],
 "metadata": {
  "kernelspec": {
   "display_name": "Python 3",
   "language": "python",
   "name": "python3"
  },
  "language_info": {
   "codemirror_mode": {
    "name": "ipython",
    "version": 3
   },
   "file_extension": ".py",
   "mimetype": "text/x-python",
   "name": "python",
   "nbconvert_exporter": "python",
   "pygments_lexer": "ipython3",
   "version": "3.12.1"
  }
 },
 "nbformat": 4,
 "nbformat_minor": 2
}
