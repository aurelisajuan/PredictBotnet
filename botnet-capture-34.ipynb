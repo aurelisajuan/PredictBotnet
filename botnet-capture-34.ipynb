{
 "cells": [
  {
   "cell_type": "code",
   "execution_count": 1,
   "metadata": {},
   "outputs": [
    {
     "name": "stdout",
     "output_type": "stream",
     "text": [
      "Pandas version: 2.2.2\n",
      "SK Learn version: 1.5.0\n"
     ]
    }
   ],
   "source": [
    "#importing all necessary libraries \n",
    "import pandas as pd\n",
    "import numpy as np\n",
    "import matplotlib.pyplot as plt\n",
    "import seaborn as sns\n",
    "import sklearn \n",
    "\n",
    "#check version\n",
    "print(\"Pandas version: \" + pd.__version__)\n",
    "print(\"SK Learn version: \" + sklearn.__version__)\n"
   ]
  },
  {
   "cell_type": "code",
   "execution_count": 2,
   "metadata": {},
   "outputs": [],
   "source": [
    "#load csv file with the correct delimiter \n",
    "file_path = 'malware-capture-csv/CTU-IoT-Malware-Capture-34-1conn.log.labeled.csv'\n",
    "df = pd.read_csv(file_path, delimiter='|')"
   ]
  },
  {
   "cell_type": "code",
   "execution_count": 3,
   "metadata": {},
   "outputs": [
    {
     "name": "stdout",
     "output_type": "stream",
     "text": [
      "Initial data:\n",
      "             ts                 uid      id.orig_h  id.orig_p       id.resp_h  \\\n",
      "0  1.545404e+09   CrDn63WjJEmrWGjqf  192.168.1.195      41040  185.244.25.235   \n",
      "1  1.545404e+09  CY9lJW3gh1Eje4usP6  192.168.1.195      41040  185.244.25.235   \n",
      "2  1.545404e+09   CcFXLynukEDnUlvgl  192.168.1.195      41040  185.244.25.235   \n",
      "3  1.545404e+09   CDrkrSobGYxHhYfth  192.168.1.195      41040  185.244.25.235   \n",
      "4  1.545404e+09  CTWZQf2oJSvq6zmPAc  192.168.1.195      41042  185.244.25.235   \n",
      "\n",
      "   id.resp_p proto service  duration orig_bytes  ... local_resp missed_bytes  \\\n",
      "0         80   tcp       -  3.139211          0  ...          -            0   \n",
      "1         80   tcp       -         -          -  ...          -            0   \n",
      "2         80   tcp       -         -          -  ...          -            0   \n",
      "3         80   tcp    http  1.477656        149  ...          -         2896   \n",
      "4         80   tcp       -  3.147116          0  ...          -            0   \n",
      "\n",
      "       history orig_pkts  orig_ip_bytes resp_pkts  resp_ip_bytes  \\\n",
      "0            S         3            180         0              0   \n",
      "1            S         1             60         0              0   \n",
      "2            S         1             60         0              0   \n",
      "3  ShADadttcfF        94           5525        96         139044   \n",
      "4            S         3            180         0              0   \n",
      "\n",
      "   tunnel_parents   label  detailed-label  \n",
      "0               -  Benign               -  \n",
      "1               -  Benign               -  \n",
      "2               -  Benign               -  \n",
      "3               -  Benign               -  \n",
      "4               -  Benign               -  \n",
      "\n",
      "[5 rows x 23 columns]\n"
     ]
    }
   ],
   "source": [
    "#take a look, displaying the first few rows to verify correct loading \n",
    "print(\"Initial data:\") \n",
    "print(df.head())"
   ]
  },
  {
   "cell_type": "code",
   "execution_count": 10,
   "metadata": {},
   "outputs": [
    {
     "name": "stdout",
     "output_type": "stream",
     "text": [
      "Number of duplicate rows: 0\n"
     ]
    }
   ],
   "source": [
    "#check for duplicates \n",
    "duplicates = df.duplicated()\n",
    "num_duplicates = duplicates.sum()\n",
    "print(f\"Number of duplicate rows: {num_duplicates}\")\n",
    "\n",
    "if num_duplicates > 0:\n",
    "    print(\"Duplicate rows:\")\n",
    "    print(df[duplicates])\n"
   ]
  },
  {
   "cell_type": "code",
   "execution_count": 11,
   "metadata": {},
   "outputs": [
    {
     "name": "stdout",
     "output_type": "stream",
     "text": [
      "Missing values per column:\n",
      "ts                    0\n",
      "uid                   0\n",
      "id.orig_h             0\n",
      "id.orig_p             0\n",
      "id.resp_h             0\n",
      "id.resp_p             0\n",
      "proto                 0\n",
      "service               0\n",
      "duration              0\n",
      "orig_bytes            0\n",
      "resp_bytes            0\n",
      "conn_state            0\n",
      "local_orig            0\n",
      "local_resp            0\n",
      "missed_bytes          0\n",
      "history               0\n",
      "orig_pkts             0\n",
      "orig_ip_bytes         0\n",
      "resp_pkts             0\n",
      "resp_ip_bytes         0\n",
      "tunnel_parents        0\n",
      "label                 0\n",
      "detailed-label    21222\n",
      "dtype: int64\n"
     ]
    }
   ],
   "source": [
    "#check for missing values\n",
    "missing_values = df.isnull().sum()\n",
    "print(\"Missing values per column:\")\n",
    "print(missing_values)"
   ]
  },
  {
   "cell_type": "code",
   "execution_count": 4,
   "metadata": {},
   "outputs": [
    {
     "name": "stdout",
     "output_type": "stream",
     "text": [
      "Initial columns:\n",
      "Index(['ts', 'uid', 'id.orig_h', 'id.orig_p', 'id.resp_h', 'id.resp_p',\n",
      "       'proto', 'service', 'duration', 'orig_bytes', 'resp_bytes',\n",
      "       'conn_state', 'local_orig', 'local_resp', 'missed_bytes', 'history',\n",
      "       'orig_pkts', 'orig_ip_bytes', 'resp_pkts', 'resp_ip_bytes',\n",
      "       'tunnel_parents', 'label', 'detailed-label'],\n",
      "      dtype='object')\n"
     ]
    }
   ],
   "source": [
    "#display the initial columns\n",
    "print(\"Initial columns:\")\n",
    "print(df.columns)"
   ]
  },
  {
   "cell_type": "code",
   "execution_count": 5,
   "metadata": {},
   "outputs": [],
   "source": [
    "#defined the required columns with desired labels\n",
    "required_columns = {\n",
    "    'ts': 'Timestamp', \n",
    "    'id.orig_h': 'Source_IP', \n",
    "    'id.resp_h': 'Destination_IP', \n",
    "    'id.orig_p': 'Source_Port', \n",
    "    'id.resp_p': 'Destination_Port', \n",
    "    'proto': 'Protocol', \n",
    "    'duration': 'Duration', \n",
    "    'orig_bytes': 'Bytes_Sent', \n",
    "    'resp_bytes': 'Bytes_Received', \n",
    "    'label': 'Label'\n",
    "}\n",
    "\n",
    "#addtional columns if available \n",
    "optional_columns = {\n",
    "    'orig_country': 'Source_Country', \n",
    "    'resp_country': 'Destination_Country', \n",
    "    'detailed_label': 'Malware_Type', \n",
    "    'orig_pkts': 'Packets_Sent', \n",
    "    'resp_pkts': 'Packets_Received'\n",
    "}\n"
   ]
  },
  {
   "cell_type": "code",
   "execution_count": 8,
   "metadata": {},
   "outputs": [
    {
     "name": "stdout",
     "output_type": "stream",
     "text": [
      "      Timestamp      Source_IP  Destination_IP  Source_Port  Destination_Port  \\\n",
      "0  1.545404e+09  192.168.1.195  185.244.25.235        41040                80   \n",
      "1  1.545404e+09  192.168.1.195  185.244.25.235        41040                80   \n",
      "2  1.545404e+09  192.168.1.195  185.244.25.235        41040                80   \n",
      "3  1.545404e+09  192.168.1.195  185.244.25.235        41040                80   \n",
      "4  1.545404e+09  192.168.1.195  185.244.25.235        41042                80   \n",
      "\n",
      "  Protocol  Duration Bytes_Sent Bytes_Received   Label  Packets_Sent  \\\n",
      "0      tcp  3.139211          0              0  Benign             3   \n",
      "1      tcp         -          -              -  Benign             1   \n",
      "2      tcp         -          -              -  Benign             1   \n",
      "3      tcp  1.477656        149         128252  Benign            94   \n",
      "4      tcp  3.147116          0              0  Benign             3   \n",
      "\n",
      "   Packets_Received  \n",
      "0                 0  \n",
      "1                 0  \n",
      "2                 0  \n",
      "3                96  \n",
      "4                 0  \n"
     ]
    }
   ],
   "source": [
    "#combine required and optional columns\n",
    "all_columns = {**required_columns, **optional_columns}\n",
    "\n",
    "#filter the dataframe to keep only the relevant columns\n",
    "filtered_columns = [col for col in all_columns.keys() if col in df.columns]\n",
    "df_filtered = df[filtered_columns].copy()\n",
    "\n",
    "#rename the columns\n",
    "df_filtered.rename(columns=all_columns, inplace=True)\n",
    "\n",
    "#display the cleaned DataFrame\n",
    "print(\"Cleaned Data:\")\n",
    "print(df_filtered.head())"
   ]
  },
  {
   "cell_type": "code",
   "execution_count": null,
   "metadata": {},
   "outputs": [],
   "source": []
  }
 ],
 "metadata": {
  "kernelspec": {
   "display_name": "Python 3",
   "language": "python",
   "name": "python3"
  },
  "language_info": {
   "codemirror_mode": {
    "name": "ipython",
    "version": 3
   },
   "file_extension": ".py",
   "mimetype": "text/x-python",
   "name": "python",
   "nbconvert_exporter": "python",
   "pygments_lexer": "ipython3",
   "version": "3.12.1"
  }
 },
 "nbformat": 4,
 "nbformat_minor": 2
}
