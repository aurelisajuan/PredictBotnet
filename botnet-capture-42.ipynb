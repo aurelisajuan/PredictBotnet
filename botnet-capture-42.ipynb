{
 "cells": [
  {
   "cell_type": "code",
   "execution_count": 2,
   "metadata": {},
   "outputs": [
    {
     "name": "stdout",
     "output_type": "stream",
     "text": [
      "Pandas version: 2.2.2\n"
     ]
    }
   ],
   "source": [
    "#importing all necessary libraries \n",
    "import pandas as pd\n",
    "import numpy as np\n",
    "import matplotlib.pyplot as plt\n",
    "import seaborn as sns\n",
    "\n",
    "#check version\n",
    "print(\"Pandas version: \" + pd.__version__)"
   ]
  },
  {
   "cell_type": "code",
   "execution_count": 3,
   "metadata": {},
   "outputs": [],
   "source": [
    "#load csv file with the correct delimiter \n",
    "file_path = 'malware-capture-csv/CTU-IoT-Malware-Capture-42-1conn.log.labeled.csv'\n",
    "df = pd.read_csv(file_path, delimiter='|')"
   ]
  },
  {
   "cell_type": "code",
   "execution_count": 4,
   "metadata": {},
   "outputs": [
    {
     "name": "stdout",
     "output_type": "stream",
     "text": [
      "Initial data:\n",
      "             ts                 uid      id.orig_h  id.orig_p      id.resp_h  \\\n",
      "0  1.547127e+09  CXY5uG2sSmjJ0grfY2  192.168.1.197      58312  104.24.96.120   \n",
      "1  1.547127e+09   Ce3AJzwzXwM3Z1XBg  192.168.1.197      45082  104.24.97.120   \n",
      "2  1.547127e+09  CJgnSb3XpbbOcMHKUd  192.168.1.197      58316  104.24.96.120   \n",
      "3  1.547127e+09   Cq43w4aHlsW8nXZ3l  192.168.1.197      59357    192.168.1.1   \n",
      "4  1.547127e+09  C5uLwl2hGy10y9PSr6  192.168.1.197      39686    192.168.1.1   \n",
      "\n",
      "   id.resp_p proto service  duration orig_bytes  ... local_resp missed_bytes  \\\n",
      "0         80   tcp    http  3.909013         83  ...          -         4380   \n",
      "1         80   tcp    http  4.767024        150  ...          -            0   \n",
      "2         80   tcp       -  3.107228          0  ...          -            0   \n",
      "3         53   udp     dns  0.029483         58  ...          -            0   \n",
      "4         53   udp     dns  0.001249         58  ...          -            0   \n",
      "\n",
      "      history orig_pkts  orig_ip_bytes resp_pkts  resp_ip_bytes  \\\n",
      "0  ShADadttFf        54           3371        50          69224   \n",
      "1  ShADadttFf        54           2938        50          69224   \n",
      "2           S         3            180         0              0   \n",
      "3          Dd         2            114         2            202   \n",
      "4          Dd         2            114         2            202   \n",
      "\n",
      "   tunnel_parents                     label  detailed-label  \n",
      "0               -  Malicious   FileDownload             NaN  \n",
      "1               -           Malicious   C&C    FileDownload  \n",
      "2               -                    Benign               -  \n",
      "3               -                    Benign               -  \n",
      "4               -                    Benign               -  \n",
      "\n",
      "[5 rows x 23 columns]\n"
     ]
    }
   ],
   "source": [
    "#take a look, displaying the first few rows to verify correct loading \n",
    "print(\"Initial data:\") \n",
    "print(df.head())"
   ]
  },
  {
   "cell_type": "code",
   "execution_count": 5,
   "metadata": {},
   "outputs": [
    {
     "name": "stdout",
     "output_type": "stream",
     "text": [
      "Initial columns:\n",
      "Index(['ts', 'uid', 'id.orig_h', 'id.orig_p', 'id.resp_h', 'id.resp_p',\n",
      "       'proto', 'service', 'duration', 'orig_bytes', 'resp_bytes',\n",
      "       'conn_state', 'local_orig', 'local_resp', 'missed_bytes', 'history',\n",
      "       'orig_pkts', 'orig_ip_bytes', 'resp_pkts', 'resp_ip_bytes',\n",
      "       'tunnel_parents', 'label', 'detailed-label'],\n",
      "      dtype='object')\n"
     ]
    }
   ],
   "source": [
    "#display the initial columns\n",
    "print(\"Initial columns:\")\n",
    "print(df.columns)"
   ]
  },
  {
   "cell_type": "code",
   "execution_count": 11,
   "metadata": {},
   "outputs": [
    {
     "name": "stdout",
     "output_type": "stream",
     "text": [
      "Initial columns:\n",
      "Index(['ts', 'uid', 'id.orig_h', 'id.orig_p', 'id.resp_h', 'id.resp_p',\n",
      "       'proto', 'service', 'duration', 'orig_bytes', 'resp_bytes',\n",
      "       'conn_state', 'local_orig', 'local_resp', 'missed_bytes', 'history',\n",
      "       'orig_pkts', 'orig_ip_bytes', 'resp_pkts', 'resp_ip_bytes',\n",
      "       'tunnel_parents', 'label', 'detailed-label'],\n",
      "      dtype='object')\n"
     ]
    }
   ],
   "source": [
    "#defined the required columns with desired labels\n",
    "required_columns = {\n",
    "    'ts': 'Timestamp', \n",
    "    'id_orig_h': 'Source_IP', \n",
    "    'id_resp_h': 'Destination_IP', \n",
    "    'id_orig_p': 'Source_Port', \n",
    "    'id_resp_p': 'Destination_Port', \n",
    "    'proto': 'Protocol', \n",
    "    'duration': 'Duration', \n",
    "    'orig_bytes': 'Bytes_Sent', \n",
    "    'resp_bytes': 'Bytes_Received', \n",
    "    'label': 'Label'\n",
    "}\n",
    "\n",
    "#addtional columns if available \n",
    "optional_columns = {\n",
    "    'orig_country': 'Source_Country', \n",
    "    'resp_country': 'Destination_Country', \n",
    "    'detailed_label': 'Malware_Type', \n",
    "    'orig_pkts': 'Packets_Sent', \n",
    "    'resp_pkts': 'Packets_Received'\n",
    "}\n",
    "\n"
   ]
  },
  {
   "cell_type": "code",
   "execution_count": 10,
   "metadata": {},
   "outputs": [
    {
     "name": "stdout",
     "output_type": "stream",
     "text": [
      "         Timestamp Protocol      Duration Bytes_Sent Bytes_Received  \\\n",
      "0     1.547127e+09      tcp      3.909013         83          67212   \n",
      "1     1.547127e+09      tcp      4.767024        150          67212   \n",
      "2     1.547127e+09      tcp      3.107228          0              0   \n",
      "3     1.547127e+09      udp      0.029483         58            146   \n",
      "4     1.547127e+09      udp      0.001249         58            146   \n",
      "...            ...      ...           ...        ...            ...   \n",
      "4421  1.547156e+09      udp             -          -              -   \n",
      "4422  1.547156e+09      udp      0.003995         48             48   \n",
      "4423  1.547157e+09      udp      0.005252         48             48   \n",
      "4424  1.547127e+09      tcp  30007.122211       8499           8025   \n",
      "4425  1.547157e+09      udp             -          -              -   \n",
      "\n",
      "                         Label  Packets_Sent  Packets_Received  \n",
      "0     Malicious   FileDownload            54                50  \n",
      "1              Malicious   C&C            54                50  \n",
      "2                       Benign             3                 0  \n",
      "3                       Benign             2                 2  \n",
      "4                       Benign             2                 2  \n",
      "...                        ...           ...               ...  \n",
      "4421                    Benign             1                 0  \n",
      "4422                    Benign             1                 1  \n",
      "4423                    Benign             1                 1  \n",
      "4424                    Benign           654               348  \n",
      "4425                    Benign             1                 0  \n",
      "\n",
      "[4426 rows x 8 columns]\n"
     ]
    }
   ],
   "source": [
    "#combine required and optional columns\n",
    "all_columns = {**required_columns, **optional_columns}\n",
    "\n",
    "#filter the dataframe to keep only the relevant columns\n",
    "filtered_columns = [col for col in all_columns.keys() if col in df.columns]\n",
    "df_filtered = df[filtered_columns].copy()\n",
    "\n",
    "#rename the columns\n",
    "df_filtered.rename(columns=all_columns, inplace=True)\n",
    "\n",
    "#display the first few rows of the cleaned dataframe\n",
    "print(df_filtered)\n"
   ]
  }
 ],
 "metadata": {
  "kernelspec": {
   "display_name": "Python 3",
   "language": "python",
   "name": "python3"
  },
  "language_info": {
   "codemirror_mode": {
    "name": "ipython",
    "version": 3
   },
   "file_extension": ".py",
   "mimetype": "text/x-python",
   "name": "python",
   "nbconvert_exporter": "python",
   "pygments_lexer": "ipython3",
   "version": "3.12.1"
  }
 },
 "nbformat": 4,
 "nbformat_minor": 2
}
